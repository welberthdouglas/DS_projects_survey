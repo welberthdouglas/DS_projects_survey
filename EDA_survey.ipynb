{
 "cells": [
  {
   "cell_type": "markdown",
   "metadata": {},
   "source": [
    "# Imports"
   ]
  },
  {
   "cell_type": "code",
   "execution_count": 1,
   "metadata": {
    "ExecuteTime": {
     "end_time": "2020-05-10T05:56:47.885173Z",
     "start_time": "2020-05-10T05:56:47.093301Z"
    }
   },
   "outputs": [],
   "source": [
    "import pandas as pd\n",
    "import numpy as np\n",
    "import matplotlib.pyplot as plt\n",
    "import seaborn as sns"
   ]
  },
  {
   "cell_type": "markdown",
   "metadata": {},
   "source": [
    "# Loading Data"
   ]
  },
  {
   "cell_type": "code",
   "execution_count": 2,
   "metadata": {
    "ExecuteTime": {
     "end_time": "2020-05-10T05:56:47.898729Z",
     "start_time": "2020-05-10T05:56:47.886864Z"
    }
   },
   "outputs": [],
   "source": [
    "data = pd.read_csv('Data_Science_PM_survey.csv', sep=';')\n",
    "\n",
    "data.columns = ['buss_underst_diff',\n",
    "                'data_acq_expl_diff',\n",
    "                'modeling_diff',\n",
    "                'validation_diff',\n",
    "                'deployment_diff',\n",
    "                'monitoring_diff',\n",
    "                'manag_problems',\n",
    "                'delays_freq',\n",
    "                'methodology',\n",
    "                'profession',\n",
    "                'submission_dt',\n",
    "                'token']"
   ]
  },
  {
   "cell_type": "markdown",
   "metadata": {},
   "source": [
    "# Functions"
   ]
  },
  {
   "cell_type": "code",
   "execution_count": 3,
   "metadata": {
    "ExecuteTime": {
     "end_time": "2020-05-10T05:56:47.908701Z",
     "start_time": "2020-05-10T05:56:47.901127Z"
    }
   },
   "outputs": [],
   "source": [
    "def onehot_declutter(df, col_in:str, sep:str =',', replace:bool = True):\n",
    "    \"\"\" transforms a column with multiple string values into one hot encoding columns\"\"\"\n",
    "    \n",
    "    string_instances = {item.strip() for i in data[col_in] for item in i.split(sep)}\n",
    "    \n",
    "    for string in string_instances:\n",
    "        df[string.replace(' ','_')] = [1 if string in i else 0 for i in df[col_in]]\n",
    "    if replace:\n",
    "        df.drop(columns = col_in, inplace = True)\n",
    "    return df"
   ]
  },
  {
   "cell_type": "markdown",
   "metadata": {},
   "source": [
    "# Data cleaning"
   ]
  },
  {
   "cell_type": "code",
   "execution_count": 4,
   "metadata": {
    "ExecuteTime": {
     "end_time": "2020-05-10T05:56:47.942806Z",
     "start_time": "2020-05-10T05:56:47.910060Z"
    }
   },
   "outputs": [],
   "source": [
    "data = onehot_declutter(data,'manag_problems',sep=',')"
   ]
  },
  {
   "cell_type": "code",
   "execution_count": 5,
   "metadata": {
    "ExecuteTime": {
     "end_time": "2020-05-10T05:56:47.952789Z",
     "start_time": "2020-05-10T05:56:47.944590Z"
    }
   },
   "outputs": [],
   "source": [
    "data.drop(columns = ['submission_dt','token','not_data_science_project_itself._None_of_these_apply_to_me.','The_options_are_very_biased_toward_management_issues'], inplace = True)"
   ]
  },
  {
   "cell_type": "code",
   "execution_count": 6,
   "metadata": {
    "ExecuteTime": {
     "end_time": "2020-05-10T05:56:47.982421Z",
     "start_time": "2020-05-10T05:56:47.954928Z"
    }
   },
   "outputs": [
    {
     "data": {
      "text/html": [
       "<div>\n",
       "<style scoped>\n",
       "    .dataframe tbody tr th:only-of-type {\n",
       "        vertical-align: middle;\n",
       "    }\n",
       "\n",
       "    .dataframe tbody tr th {\n",
       "        vertical-align: top;\n",
       "    }\n",
       "\n",
       "    .dataframe thead th {\n",
       "        text-align: right;\n",
       "    }\n",
       "</style>\n",
       "<table border=\"1\" class=\"dataframe\">\n",
       "  <thead>\n",
       "    <tr style=\"text-align: right;\">\n",
       "      <th></th>\n",
       "      <th>buss_underst_diff</th>\n",
       "      <th>data_acq_expl_diff</th>\n",
       "      <th>modeling_diff</th>\n",
       "      <th>validation_diff</th>\n",
       "      <th>deployment_diff</th>\n",
       "      <th>monitoring_diff</th>\n",
       "      <th>delays_freq</th>\n",
       "      <th>methodology</th>\n",
       "      <th>profession</th>\n",
       "      <th>Late/low_engagement_of_stakeholders</th>\n",
       "      <th>Frequent_delays</th>\n",
       "      <th>Poor_communication</th>\n",
       "      <th>Ineffective_coordination_between_teams</th>\n",
       "      <th>Useless_data_entries_made_by_users</th>\n",
       "      <th>Ill-defined_problem_or_business_objectives</th>\n",
       "      <th>The_amount_of_data</th>\n",
       "      <th>Infrastructure</th>\n",
       "    </tr>\n",
       "  </thead>\n",
       "  <tbody>\n",
       "    <tr>\n",
       "      <th>0</th>\n",
       "      <td>9</td>\n",
       "      <td>8</td>\n",
       "      <td>4</td>\n",
       "      <td>6</td>\n",
       "      <td>7</td>\n",
       "      <td>5</td>\n",
       "      <td>9</td>\n",
       "      <td>CRISP-DM</td>\n",
       "      <td>Data Scientist</td>\n",
       "      <td>1</td>\n",
       "      <td>1</td>\n",
       "      <td>1</td>\n",
       "      <td>0</td>\n",
       "      <td>0</td>\n",
       "      <td>0</td>\n",
       "      <td>0</td>\n",
       "      <td>0</td>\n",
       "    </tr>\n",
       "    <tr>\n",
       "      <th>1</th>\n",
       "      <td>7</td>\n",
       "      <td>4</td>\n",
       "      <td>6</td>\n",
       "      <td>7</td>\n",
       "      <td>4</td>\n",
       "      <td>4</td>\n",
       "      <td>7</td>\n",
       "      <td>Kanban</td>\n",
       "      <td>Data Analyst</td>\n",
       "      <td>1</td>\n",
       "      <td>1</td>\n",
       "      <td>0</td>\n",
       "      <td>0</td>\n",
       "      <td>0</td>\n",
       "      <td>1</td>\n",
       "      <td>0</td>\n",
       "      <td>0</td>\n",
       "    </tr>\n",
       "    <tr>\n",
       "      <th>2</th>\n",
       "      <td>8</td>\n",
       "      <td>6</td>\n",
       "      <td>4</td>\n",
       "      <td>7</td>\n",
       "      <td>9</td>\n",
       "      <td>10</td>\n",
       "      <td>8</td>\n",
       "      <td>None</td>\n",
       "      <td>Data Scientist</td>\n",
       "      <td>1</td>\n",
       "      <td>0</td>\n",
       "      <td>0</td>\n",
       "      <td>1</td>\n",
       "      <td>0</td>\n",
       "      <td>1</td>\n",
       "      <td>0</td>\n",
       "      <td>0</td>\n",
       "    </tr>\n",
       "    <tr>\n",
       "      <th>3</th>\n",
       "      <td>8</td>\n",
       "      <td>9</td>\n",
       "      <td>3</td>\n",
       "      <td>7</td>\n",
       "      <td>7</td>\n",
       "      <td>3</td>\n",
       "      <td>10</td>\n",
       "      <td>Kanban</td>\n",
       "      <td>Manager</td>\n",
       "      <td>1</td>\n",
       "      <td>0</td>\n",
       "      <td>0</td>\n",
       "      <td>0</td>\n",
       "      <td>0</td>\n",
       "      <td>1</td>\n",
       "      <td>0</td>\n",
       "      <td>0</td>\n",
       "    </tr>\n",
       "    <tr>\n",
       "      <th>4</th>\n",
       "      <td>8</td>\n",
       "      <td>10</td>\n",
       "      <td>6</td>\n",
       "      <td>4</td>\n",
       "      <td>6</td>\n",
       "      <td>4</td>\n",
       "      <td>5</td>\n",
       "      <td>Scrum</td>\n",
       "      <td>Data Scientist</td>\n",
       "      <td>0</td>\n",
       "      <td>0</td>\n",
       "      <td>0</td>\n",
       "      <td>0</td>\n",
       "      <td>0</td>\n",
       "      <td>1</td>\n",
       "      <td>0</td>\n",
       "      <td>0</td>\n",
       "    </tr>\n",
       "  </tbody>\n",
       "</table>\n",
       "</div>"
      ],
      "text/plain": [
       "   buss_underst_diff  data_acq_expl_diff  modeling_diff  validation_diff  \\\n",
       "0                  9                   8              4                6   \n",
       "1                  7                   4              6                7   \n",
       "2                  8                   6              4                7   \n",
       "3                  8                   9              3                7   \n",
       "4                  8                  10              6                4   \n",
       "\n",
       "   deployment_diff  monitoring_diff  delays_freq methodology      profession  \\\n",
       "0                7                5            9    CRISP-DM  Data Scientist   \n",
       "1                4                4            7      Kanban    Data Analyst   \n",
       "2                9               10            8        None  Data Scientist   \n",
       "3                7                3           10      Kanban         Manager   \n",
       "4                6                4            5       Scrum  Data Scientist   \n",
       "\n",
       "   Late/low_engagement_of_stakeholders  Frequent_delays  Poor_communication  \\\n",
       "0                                    1                1                   1   \n",
       "1                                    1                1                   0   \n",
       "2                                    1                0                   0   \n",
       "3                                    1                0                   0   \n",
       "4                                    0                0                   0   \n",
       "\n",
       "   Ineffective_coordination_between_teams  Useless_data_entries_made_by_users  \\\n",
       "0                                       0                                   0   \n",
       "1                                       0                                   0   \n",
       "2                                       1                                   0   \n",
       "3                                       0                                   0   \n",
       "4                                       0                                   0   \n",
       "\n",
       "   Ill-defined_problem_or_business_objectives  The_amount_of_data  \\\n",
       "0                                           0                   0   \n",
       "1                                           1                   0   \n",
       "2                                           1                   0   \n",
       "3                                           1                   0   \n",
       "4                                           1                   0   \n",
       "\n",
       "   Infrastructure  \n",
       "0               0  \n",
       "1               0  \n",
       "2               0  \n",
       "3               0  \n",
       "4               0  "
      ]
     },
     "execution_count": 6,
     "metadata": {},
     "output_type": "execute_result"
    }
   ],
   "source": [
    "data.head()"
   ]
  },
  {
   "cell_type": "markdown",
   "metadata": {},
   "source": [
    "# EDA"
   ]
  },
  {
   "cell_type": "code",
   "execution_count": 7,
   "metadata": {
    "ExecuteTime": {
     "end_time": "2020-05-10T05:56:48.066450Z",
     "start_time": "2020-05-10T05:56:47.985310Z"
    }
   },
   "outputs": [
    {
     "data": {
      "text/html": [
       "<div>\n",
       "<style scoped>\n",
       "    .dataframe tbody tr th:only-of-type {\n",
       "        vertical-align: middle;\n",
       "    }\n",
       "\n",
       "    .dataframe tbody tr th {\n",
       "        vertical-align: top;\n",
       "    }\n",
       "\n",
       "    .dataframe thead th {\n",
       "        text-align: right;\n",
       "    }\n",
       "</style>\n",
       "<table border=\"1\" class=\"dataframe\">\n",
       "  <thead>\n",
       "    <tr style=\"text-align: right;\">\n",
       "      <th></th>\n",
       "      <th>count</th>\n",
       "      <th>mean</th>\n",
       "      <th>std</th>\n",
       "      <th>min</th>\n",
       "      <th>25%</th>\n",
       "      <th>50%</th>\n",
       "      <th>75%</th>\n",
       "      <th>max</th>\n",
       "    </tr>\n",
       "  </thead>\n",
       "  <tbody>\n",
       "    <tr>\n",
       "      <th>buss_underst_diff</th>\n",
       "      <td>29.0</td>\n",
       "      <td>7.000000</td>\n",
       "      <td>1.732051</td>\n",
       "      <td>2.0</td>\n",
       "      <td>6.0</td>\n",
       "      <td>7.0</td>\n",
       "      <td>8.0</td>\n",
       "      <td>10.0</td>\n",
       "    </tr>\n",
       "    <tr>\n",
       "      <th>data_acq_expl_diff</th>\n",
       "      <td>29.0</td>\n",
       "      <td>7.413793</td>\n",
       "      <td>2.244314</td>\n",
       "      <td>2.0</td>\n",
       "      <td>7.0</td>\n",
       "      <td>8.0</td>\n",
       "      <td>9.0</td>\n",
       "      <td>10.0</td>\n",
       "    </tr>\n",
       "    <tr>\n",
       "      <th>modeling_diff</th>\n",
       "      <td>29.0</td>\n",
       "      <td>5.379310</td>\n",
       "      <td>2.381683</td>\n",
       "      <td>1.0</td>\n",
       "      <td>4.0</td>\n",
       "      <td>5.0</td>\n",
       "      <td>7.0</td>\n",
       "      <td>10.0</td>\n",
       "    </tr>\n",
       "    <tr>\n",
       "      <th>validation_diff</th>\n",
       "      <td>29.0</td>\n",
       "      <td>6.000000</td>\n",
       "      <td>2.052873</td>\n",
       "      <td>2.0</td>\n",
       "      <td>5.0</td>\n",
       "      <td>7.0</td>\n",
       "      <td>8.0</td>\n",
       "      <td>9.0</td>\n",
       "    </tr>\n",
       "    <tr>\n",
       "      <th>deployment_diff</th>\n",
       "      <td>29.0</td>\n",
       "      <td>6.758621</td>\n",
       "      <td>2.473505</td>\n",
       "      <td>1.0</td>\n",
       "      <td>5.0</td>\n",
       "      <td>7.0</td>\n",
       "      <td>9.0</td>\n",
       "      <td>10.0</td>\n",
       "    </tr>\n",
       "    <tr>\n",
       "      <th>monitoring_diff</th>\n",
       "      <td>29.0</td>\n",
       "      <td>5.758621</td>\n",
       "      <td>1.957680</td>\n",
       "      <td>1.0</td>\n",
       "      <td>5.0</td>\n",
       "      <td>6.0</td>\n",
       "      <td>7.0</td>\n",
       "      <td>9.0</td>\n",
       "    </tr>\n",
       "    <tr>\n",
       "      <th>delays_freq</th>\n",
       "      <td>29.0</td>\n",
       "      <td>7.068966</td>\n",
       "      <td>1.771421</td>\n",
       "      <td>2.0</td>\n",
       "      <td>6.0</td>\n",
       "      <td>7.0</td>\n",
       "      <td>8.0</td>\n",
       "      <td>10.0</td>\n",
       "    </tr>\n",
       "    <tr>\n",
       "      <th>Late/low_engagement_of_stakeholders</th>\n",
       "      <td>29.0</td>\n",
       "      <td>0.586207</td>\n",
       "      <td>0.501230</td>\n",
       "      <td>0.0</td>\n",
       "      <td>0.0</td>\n",
       "      <td>1.0</td>\n",
       "      <td>1.0</td>\n",
       "      <td>1.0</td>\n",
       "    </tr>\n",
       "    <tr>\n",
       "      <th>Frequent_delays</th>\n",
       "      <td>29.0</td>\n",
       "      <td>0.172414</td>\n",
       "      <td>0.384426</td>\n",
       "      <td>0.0</td>\n",
       "      <td>0.0</td>\n",
       "      <td>0.0</td>\n",
       "      <td>0.0</td>\n",
       "      <td>1.0</td>\n",
       "    </tr>\n",
       "    <tr>\n",
       "      <th>Poor_communication</th>\n",
       "      <td>29.0</td>\n",
       "      <td>0.379310</td>\n",
       "      <td>0.493804</td>\n",
       "      <td>0.0</td>\n",
       "      <td>0.0</td>\n",
       "      <td>0.0</td>\n",
       "      <td>1.0</td>\n",
       "      <td>1.0</td>\n",
       "    </tr>\n",
       "    <tr>\n",
       "      <th>Ineffective_coordination_between_teams</th>\n",
       "      <td>29.0</td>\n",
       "      <td>0.344828</td>\n",
       "      <td>0.483725</td>\n",
       "      <td>0.0</td>\n",
       "      <td>0.0</td>\n",
       "      <td>0.0</td>\n",
       "      <td>1.0</td>\n",
       "      <td>1.0</td>\n",
       "    </tr>\n",
       "    <tr>\n",
       "      <th>Useless_data_entries_made_by_users</th>\n",
       "      <td>29.0</td>\n",
       "      <td>0.000000</td>\n",
       "      <td>0.000000</td>\n",
       "      <td>0.0</td>\n",
       "      <td>0.0</td>\n",
       "      <td>0.0</td>\n",
       "      <td>0.0</td>\n",
       "      <td>0.0</td>\n",
       "    </tr>\n",
       "    <tr>\n",
       "      <th>Ill-defined_problem_or_business_objectives</th>\n",
       "      <td>29.0</td>\n",
       "      <td>0.655172</td>\n",
       "      <td>0.483725</td>\n",
       "      <td>0.0</td>\n",
       "      <td>0.0</td>\n",
       "      <td>1.0</td>\n",
       "      <td>1.0</td>\n",
       "      <td>1.0</td>\n",
       "    </tr>\n",
       "    <tr>\n",
       "      <th>The_amount_of_data</th>\n",
       "      <td>29.0</td>\n",
       "      <td>0.000000</td>\n",
       "      <td>0.000000</td>\n",
       "      <td>0.0</td>\n",
       "      <td>0.0</td>\n",
       "      <td>0.0</td>\n",
       "      <td>0.0</td>\n",
       "      <td>0.0</td>\n",
       "    </tr>\n",
       "    <tr>\n",
       "      <th>Infrastructure</th>\n",
       "      <td>29.0</td>\n",
       "      <td>0.000000</td>\n",
       "      <td>0.000000</td>\n",
       "      <td>0.0</td>\n",
       "      <td>0.0</td>\n",
       "      <td>0.0</td>\n",
       "      <td>0.0</td>\n",
       "      <td>0.0</td>\n",
       "    </tr>\n",
       "  </tbody>\n",
       "</table>\n",
       "</div>"
      ],
      "text/plain": [
       "                                            count      mean       std  min  \\\n",
       "buss_underst_diff                            29.0  7.000000  1.732051  2.0   \n",
       "data_acq_expl_diff                           29.0  7.413793  2.244314  2.0   \n",
       "modeling_diff                                29.0  5.379310  2.381683  1.0   \n",
       "validation_diff                              29.0  6.000000  2.052873  2.0   \n",
       "deployment_diff                              29.0  6.758621  2.473505  1.0   \n",
       "monitoring_diff                              29.0  5.758621  1.957680  1.0   \n",
       "delays_freq                                  29.0  7.068966  1.771421  2.0   \n",
       "Late/low_engagement_of_stakeholders          29.0  0.586207  0.501230  0.0   \n",
       "Frequent_delays                              29.0  0.172414  0.384426  0.0   \n",
       "Poor_communication                           29.0  0.379310  0.493804  0.0   \n",
       "Ineffective_coordination_between_teams       29.0  0.344828  0.483725  0.0   \n",
       "Useless_data_entries_made_by_users           29.0  0.000000  0.000000  0.0   \n",
       "Ill-defined_problem_or_business_objectives   29.0  0.655172  0.483725  0.0   \n",
       "The_amount_of_data                           29.0  0.000000  0.000000  0.0   \n",
       "Infrastructure                               29.0  0.000000  0.000000  0.0   \n",
       "\n",
       "                                            25%  50%  75%   max  \n",
       "buss_underst_diff                           6.0  7.0  8.0  10.0  \n",
       "data_acq_expl_diff                          7.0  8.0  9.0  10.0  \n",
       "modeling_diff                               4.0  5.0  7.0  10.0  \n",
       "validation_diff                             5.0  7.0  8.0   9.0  \n",
       "deployment_diff                             5.0  7.0  9.0  10.0  \n",
       "monitoring_diff                             5.0  6.0  7.0   9.0  \n",
       "delays_freq                                 6.0  7.0  8.0  10.0  \n",
       "Late/low_engagement_of_stakeholders         0.0  1.0  1.0   1.0  \n",
       "Frequent_delays                             0.0  0.0  0.0   1.0  \n",
       "Poor_communication                          0.0  0.0  1.0   1.0  \n",
       "Ineffective_coordination_between_teams      0.0  0.0  1.0   1.0  \n",
       "Useless_data_entries_made_by_users          0.0  0.0  0.0   0.0  \n",
       "Ill-defined_problem_or_business_objectives  0.0  1.0  1.0   1.0  \n",
       "The_amount_of_data                          0.0  0.0  0.0   0.0  \n",
       "Infrastructure                              0.0  0.0  0.0   0.0  "
      ]
     },
     "execution_count": 7,
     "metadata": {},
     "output_type": "execute_result"
    }
   ],
   "source": [
    "data.query(\"methodology == 'Scrum'\").describe().T"
   ]
  },
  {
   "cell_type": "code",
   "execution_count": 8,
   "metadata": {
    "ExecuteTime": {
     "end_time": "2020-05-10T05:56:48.146174Z",
     "start_time": "2020-05-10T05:56:48.068356Z"
    }
   },
   "outputs": [
    {
     "data": {
      "text/html": [
       "<div>\n",
       "<style scoped>\n",
       "    .dataframe tbody tr th:only-of-type {\n",
       "        vertical-align: middle;\n",
       "    }\n",
       "\n",
       "    .dataframe tbody tr th {\n",
       "        vertical-align: top;\n",
       "    }\n",
       "\n",
       "    .dataframe thead th {\n",
       "        text-align: right;\n",
       "    }\n",
       "</style>\n",
       "<table border=\"1\" class=\"dataframe\">\n",
       "  <thead>\n",
       "    <tr style=\"text-align: right;\">\n",
       "      <th></th>\n",
       "      <th>count</th>\n",
       "      <th>mean</th>\n",
       "      <th>std</th>\n",
       "      <th>min</th>\n",
       "      <th>25%</th>\n",
       "      <th>50%</th>\n",
       "      <th>75%</th>\n",
       "      <th>max</th>\n",
       "    </tr>\n",
       "  </thead>\n",
       "  <tbody>\n",
       "    <tr>\n",
       "      <th>buss_underst_diff</th>\n",
       "      <td>28.0</td>\n",
       "      <td>5.821429</td>\n",
       "      <td>2.789578</td>\n",
       "      <td>0.0</td>\n",
       "      <td>3.00</td>\n",
       "      <td>6.0</td>\n",
       "      <td>8.00</td>\n",
       "      <td>10.0</td>\n",
       "    </tr>\n",
       "    <tr>\n",
       "      <th>data_acq_expl_diff</th>\n",
       "      <td>28.0</td>\n",
       "      <td>6.428571</td>\n",
       "      <td>2.026282</td>\n",
       "      <td>3.0</td>\n",
       "      <td>5.00</td>\n",
       "      <td>6.5</td>\n",
       "      <td>8.00</td>\n",
       "      <td>10.0</td>\n",
       "    </tr>\n",
       "    <tr>\n",
       "      <th>modeling_diff</th>\n",
       "      <td>28.0</td>\n",
       "      <td>4.892857</td>\n",
       "      <td>1.950105</td>\n",
       "      <td>1.0</td>\n",
       "      <td>4.00</td>\n",
       "      <td>5.0</td>\n",
       "      <td>6.00</td>\n",
       "      <td>9.0</td>\n",
       "    </tr>\n",
       "    <tr>\n",
       "      <th>validation_diff</th>\n",
       "      <td>28.0</td>\n",
       "      <td>6.535714</td>\n",
       "      <td>2.426431</td>\n",
       "      <td>1.0</td>\n",
       "      <td>5.75</td>\n",
       "      <td>7.0</td>\n",
       "      <td>8.25</td>\n",
       "      <td>10.0</td>\n",
       "    </tr>\n",
       "    <tr>\n",
       "      <th>deployment_diff</th>\n",
       "      <td>28.0</td>\n",
       "      <td>6.250000</td>\n",
       "      <td>2.849626</td>\n",
       "      <td>1.0</td>\n",
       "      <td>4.75</td>\n",
       "      <td>7.0</td>\n",
       "      <td>8.00</td>\n",
       "      <td>10.0</td>\n",
       "    </tr>\n",
       "    <tr>\n",
       "      <th>monitoring_diff</th>\n",
       "      <td>28.0</td>\n",
       "      <td>5.321429</td>\n",
       "      <td>2.776269</td>\n",
       "      <td>1.0</td>\n",
       "      <td>3.00</td>\n",
       "      <td>6.0</td>\n",
       "      <td>7.00</td>\n",
       "      <td>10.0</td>\n",
       "    </tr>\n",
       "    <tr>\n",
       "      <th>delays_freq</th>\n",
       "      <td>28.0</td>\n",
       "      <td>6.642857</td>\n",
       "      <td>2.163918</td>\n",
       "      <td>2.0</td>\n",
       "      <td>5.75</td>\n",
       "      <td>7.0</td>\n",
       "      <td>8.00</td>\n",
       "      <td>10.0</td>\n",
       "    </tr>\n",
       "    <tr>\n",
       "      <th>Late/low_engagement_of_stakeholders</th>\n",
       "      <td>28.0</td>\n",
       "      <td>0.535714</td>\n",
       "      <td>0.507875</td>\n",
       "      <td>0.0</td>\n",
       "      <td>0.00</td>\n",
       "      <td>1.0</td>\n",
       "      <td>1.00</td>\n",
       "      <td>1.0</td>\n",
       "    </tr>\n",
       "    <tr>\n",
       "      <th>Frequent_delays</th>\n",
       "      <td>28.0</td>\n",
       "      <td>0.178571</td>\n",
       "      <td>0.390021</td>\n",
       "      <td>0.0</td>\n",
       "      <td>0.00</td>\n",
       "      <td>0.0</td>\n",
       "      <td>0.00</td>\n",
       "      <td>1.0</td>\n",
       "    </tr>\n",
       "    <tr>\n",
       "      <th>Poor_communication</th>\n",
       "      <td>28.0</td>\n",
       "      <td>0.214286</td>\n",
       "      <td>0.417855</td>\n",
       "      <td>0.0</td>\n",
       "      <td>0.00</td>\n",
       "      <td>0.0</td>\n",
       "      <td>0.00</td>\n",
       "      <td>1.0</td>\n",
       "    </tr>\n",
       "    <tr>\n",
       "      <th>Ineffective_coordination_between_teams</th>\n",
       "      <td>28.0</td>\n",
       "      <td>0.321429</td>\n",
       "      <td>0.475595</td>\n",
       "      <td>0.0</td>\n",
       "      <td>0.00</td>\n",
       "      <td>0.0</td>\n",
       "      <td>1.00</td>\n",
       "      <td>1.0</td>\n",
       "    </tr>\n",
       "    <tr>\n",
       "      <th>Useless_data_entries_made_by_users</th>\n",
       "      <td>28.0</td>\n",
       "      <td>0.035714</td>\n",
       "      <td>0.188982</td>\n",
       "      <td>0.0</td>\n",
       "      <td>0.00</td>\n",
       "      <td>0.0</td>\n",
       "      <td>0.00</td>\n",
       "      <td>1.0</td>\n",
       "    </tr>\n",
       "    <tr>\n",
       "      <th>Ill-defined_problem_or_business_objectives</th>\n",
       "      <td>28.0</td>\n",
       "      <td>0.678571</td>\n",
       "      <td>0.475595</td>\n",
       "      <td>0.0</td>\n",
       "      <td>0.00</td>\n",
       "      <td>1.0</td>\n",
       "      <td>1.00</td>\n",
       "      <td>1.0</td>\n",
       "    </tr>\n",
       "    <tr>\n",
       "      <th>The_amount_of_data</th>\n",
       "      <td>28.0</td>\n",
       "      <td>0.000000</td>\n",
       "      <td>0.000000</td>\n",
       "      <td>0.0</td>\n",
       "      <td>0.00</td>\n",
       "      <td>0.0</td>\n",
       "      <td>0.00</td>\n",
       "      <td>0.0</td>\n",
       "    </tr>\n",
       "    <tr>\n",
       "      <th>Infrastructure</th>\n",
       "      <td>28.0</td>\n",
       "      <td>0.035714</td>\n",
       "      <td>0.188982</td>\n",
       "      <td>0.0</td>\n",
       "      <td>0.00</td>\n",
       "      <td>0.0</td>\n",
       "      <td>0.00</td>\n",
       "      <td>1.0</td>\n",
       "    </tr>\n",
       "  </tbody>\n",
       "</table>\n",
       "</div>"
      ],
      "text/plain": [
       "                                            count      mean       std  min  \\\n",
       "buss_underst_diff                            28.0  5.821429  2.789578  0.0   \n",
       "data_acq_expl_diff                           28.0  6.428571  2.026282  3.0   \n",
       "modeling_diff                                28.0  4.892857  1.950105  1.0   \n",
       "validation_diff                              28.0  6.535714  2.426431  1.0   \n",
       "deployment_diff                              28.0  6.250000  2.849626  1.0   \n",
       "monitoring_diff                              28.0  5.321429  2.776269  1.0   \n",
       "delays_freq                                  28.0  6.642857  2.163918  2.0   \n",
       "Late/low_engagement_of_stakeholders          28.0  0.535714  0.507875  0.0   \n",
       "Frequent_delays                              28.0  0.178571  0.390021  0.0   \n",
       "Poor_communication                           28.0  0.214286  0.417855  0.0   \n",
       "Ineffective_coordination_between_teams       28.0  0.321429  0.475595  0.0   \n",
       "Useless_data_entries_made_by_users           28.0  0.035714  0.188982  0.0   \n",
       "Ill-defined_problem_or_business_objectives   28.0  0.678571  0.475595  0.0   \n",
       "The_amount_of_data                           28.0  0.000000  0.000000  0.0   \n",
       "Infrastructure                               28.0  0.035714  0.188982  0.0   \n",
       "\n",
       "                                             25%  50%   75%   max  \n",
       "buss_underst_diff                           3.00  6.0  8.00  10.0  \n",
       "data_acq_expl_diff                          5.00  6.5  8.00  10.0  \n",
       "modeling_diff                               4.00  5.0  6.00   9.0  \n",
       "validation_diff                             5.75  7.0  8.25  10.0  \n",
       "deployment_diff                             4.75  7.0  8.00  10.0  \n",
       "monitoring_diff                             3.00  6.0  7.00  10.0  \n",
       "delays_freq                                 5.75  7.0  8.00  10.0  \n",
       "Late/low_engagement_of_stakeholders         0.00  1.0  1.00   1.0  \n",
       "Frequent_delays                             0.00  0.0  0.00   1.0  \n",
       "Poor_communication                          0.00  0.0  0.00   1.0  \n",
       "Ineffective_coordination_between_teams      0.00  0.0  1.00   1.0  \n",
       "Useless_data_entries_made_by_users          0.00  0.0  0.00   1.0  \n",
       "Ill-defined_problem_or_business_objectives  0.00  1.0  1.00   1.0  \n",
       "The_amount_of_data                          0.00  0.0  0.00   0.0  \n",
       "Infrastructure                              0.00  0.0  0.00   1.0  "
      ]
     },
     "execution_count": 8,
     "metadata": {},
     "output_type": "execute_result"
    }
   ],
   "source": [
    "data.query(\"methodology == 'Kanban'\").describe().T"
   ]
  },
  {
   "cell_type": "code",
   "execution_count": 9,
   "metadata": {
    "ExecuteTime": {
     "end_time": "2020-05-10T05:56:48.207620Z",
     "start_time": "2020-05-10T05:56:48.148830Z"
    }
   },
   "outputs": [
    {
     "data": {
      "text/html": [
       "<div>\n",
       "<style scoped>\n",
       "    .dataframe tbody tr th:only-of-type {\n",
       "        vertical-align: middle;\n",
       "    }\n",
       "\n",
       "    .dataframe tbody tr th {\n",
       "        vertical-align: top;\n",
       "    }\n",
       "\n",
       "    .dataframe thead th {\n",
       "        text-align: right;\n",
       "    }\n",
       "</style>\n",
       "<table border=\"1\" class=\"dataframe\">\n",
       "  <thead>\n",
       "    <tr style=\"text-align: right;\">\n",
       "      <th></th>\n",
       "      <th>count</th>\n",
       "      <th>mean</th>\n",
       "      <th>std</th>\n",
       "      <th>min</th>\n",
       "      <th>25%</th>\n",
       "      <th>50%</th>\n",
       "      <th>75%</th>\n",
       "      <th>max</th>\n",
       "    </tr>\n",
       "  </thead>\n",
       "  <tbody>\n",
       "    <tr>\n",
       "      <th>buss_underst_diff</th>\n",
       "      <td>13.0</td>\n",
       "      <td>7.923077</td>\n",
       "      <td>2.782731</td>\n",
       "      <td>0.0</td>\n",
       "      <td>7.0</td>\n",
       "      <td>9.0</td>\n",
       "      <td>10.0</td>\n",
       "      <td>10.0</td>\n",
       "    </tr>\n",
       "    <tr>\n",
       "      <th>data_acq_expl_diff</th>\n",
       "      <td>13.0</td>\n",
       "      <td>6.461538</td>\n",
       "      <td>1.853617</td>\n",
       "      <td>3.0</td>\n",
       "      <td>6.0</td>\n",
       "      <td>7.0</td>\n",
       "      <td>8.0</td>\n",
       "      <td>9.0</td>\n",
       "    </tr>\n",
       "    <tr>\n",
       "      <th>modeling_diff</th>\n",
       "      <td>13.0</td>\n",
       "      <td>5.230769</td>\n",
       "      <td>1.300887</td>\n",
       "      <td>2.0</td>\n",
       "      <td>5.0</td>\n",
       "      <td>6.0</td>\n",
       "      <td>6.0</td>\n",
       "      <td>7.0</td>\n",
       "    </tr>\n",
       "    <tr>\n",
       "      <th>validation_diff</th>\n",
       "      <td>13.0</td>\n",
       "      <td>6.615385</td>\n",
       "      <td>1.709701</td>\n",
       "      <td>4.0</td>\n",
       "      <td>6.0</td>\n",
       "      <td>6.0</td>\n",
       "      <td>8.0</td>\n",
       "      <td>10.0</td>\n",
       "    </tr>\n",
       "    <tr>\n",
       "      <th>deployment_diff</th>\n",
       "      <td>13.0</td>\n",
       "      <td>6.461538</td>\n",
       "      <td>1.941451</td>\n",
       "      <td>3.0</td>\n",
       "      <td>5.0</td>\n",
       "      <td>6.0</td>\n",
       "      <td>7.0</td>\n",
       "      <td>10.0</td>\n",
       "    </tr>\n",
       "    <tr>\n",
       "      <th>monitoring_diff</th>\n",
       "      <td>13.0</td>\n",
       "      <td>6.692308</td>\n",
       "      <td>0.947331</td>\n",
       "      <td>5.0</td>\n",
       "      <td>6.0</td>\n",
       "      <td>7.0</td>\n",
       "      <td>7.0</td>\n",
       "      <td>8.0</td>\n",
       "    </tr>\n",
       "    <tr>\n",
       "      <th>delays_freq</th>\n",
       "      <td>13.0</td>\n",
       "      <td>5.615385</td>\n",
       "      <td>2.567050</td>\n",
       "      <td>0.0</td>\n",
       "      <td>5.0</td>\n",
       "      <td>6.0</td>\n",
       "      <td>6.0</td>\n",
       "      <td>10.0</td>\n",
       "    </tr>\n",
       "    <tr>\n",
       "      <th>Late/low_engagement_of_stakeholders</th>\n",
       "      <td>13.0</td>\n",
       "      <td>0.615385</td>\n",
       "      <td>0.506370</td>\n",
       "      <td>0.0</td>\n",
       "      <td>0.0</td>\n",
       "      <td>1.0</td>\n",
       "      <td>1.0</td>\n",
       "      <td>1.0</td>\n",
       "    </tr>\n",
       "    <tr>\n",
       "      <th>Frequent_delays</th>\n",
       "      <td>13.0</td>\n",
       "      <td>0.230769</td>\n",
       "      <td>0.438529</td>\n",
       "      <td>0.0</td>\n",
       "      <td>0.0</td>\n",
       "      <td>0.0</td>\n",
       "      <td>0.0</td>\n",
       "      <td>1.0</td>\n",
       "    </tr>\n",
       "    <tr>\n",
       "      <th>Poor_communication</th>\n",
       "      <td>13.0</td>\n",
       "      <td>0.307692</td>\n",
       "      <td>0.480384</td>\n",
       "      <td>0.0</td>\n",
       "      <td>0.0</td>\n",
       "      <td>0.0</td>\n",
       "      <td>1.0</td>\n",
       "      <td>1.0</td>\n",
       "    </tr>\n",
       "    <tr>\n",
       "      <th>Ineffective_coordination_between_teams</th>\n",
       "      <td>13.0</td>\n",
       "      <td>0.384615</td>\n",
       "      <td>0.506370</td>\n",
       "      <td>0.0</td>\n",
       "      <td>0.0</td>\n",
       "      <td>0.0</td>\n",
       "      <td>1.0</td>\n",
       "      <td>1.0</td>\n",
       "    </tr>\n",
       "    <tr>\n",
       "      <th>Useless_data_entries_made_by_users</th>\n",
       "      <td>13.0</td>\n",
       "      <td>0.000000</td>\n",
       "      <td>0.000000</td>\n",
       "      <td>0.0</td>\n",
       "      <td>0.0</td>\n",
       "      <td>0.0</td>\n",
       "      <td>0.0</td>\n",
       "      <td>0.0</td>\n",
       "    </tr>\n",
       "    <tr>\n",
       "      <th>Ill-defined_problem_or_business_objectives</th>\n",
       "      <td>13.0</td>\n",
       "      <td>0.615385</td>\n",
       "      <td>0.506370</td>\n",
       "      <td>0.0</td>\n",
       "      <td>0.0</td>\n",
       "      <td>1.0</td>\n",
       "      <td>1.0</td>\n",
       "      <td>1.0</td>\n",
       "    </tr>\n",
       "    <tr>\n",
       "      <th>The_amount_of_data</th>\n",
       "      <td>13.0</td>\n",
       "      <td>0.000000</td>\n",
       "      <td>0.000000</td>\n",
       "      <td>0.0</td>\n",
       "      <td>0.0</td>\n",
       "      <td>0.0</td>\n",
       "      <td>0.0</td>\n",
       "      <td>0.0</td>\n",
       "    </tr>\n",
       "    <tr>\n",
       "      <th>Infrastructure</th>\n",
       "      <td>13.0</td>\n",
       "      <td>0.000000</td>\n",
       "      <td>0.000000</td>\n",
       "      <td>0.0</td>\n",
       "      <td>0.0</td>\n",
       "      <td>0.0</td>\n",
       "      <td>0.0</td>\n",
       "      <td>0.0</td>\n",
       "    </tr>\n",
       "  </tbody>\n",
       "</table>\n",
       "</div>"
      ],
      "text/plain": [
       "                                            count      mean       std  min  \\\n",
       "buss_underst_diff                            13.0  7.923077  2.782731  0.0   \n",
       "data_acq_expl_diff                           13.0  6.461538  1.853617  3.0   \n",
       "modeling_diff                                13.0  5.230769  1.300887  2.0   \n",
       "validation_diff                              13.0  6.615385  1.709701  4.0   \n",
       "deployment_diff                              13.0  6.461538  1.941451  3.0   \n",
       "monitoring_diff                              13.0  6.692308  0.947331  5.0   \n",
       "delays_freq                                  13.0  5.615385  2.567050  0.0   \n",
       "Late/low_engagement_of_stakeholders          13.0  0.615385  0.506370  0.0   \n",
       "Frequent_delays                              13.0  0.230769  0.438529  0.0   \n",
       "Poor_communication                           13.0  0.307692  0.480384  0.0   \n",
       "Ineffective_coordination_between_teams       13.0  0.384615  0.506370  0.0   \n",
       "Useless_data_entries_made_by_users           13.0  0.000000  0.000000  0.0   \n",
       "Ill-defined_problem_or_business_objectives   13.0  0.615385  0.506370  0.0   \n",
       "The_amount_of_data                           13.0  0.000000  0.000000  0.0   \n",
       "Infrastructure                               13.0  0.000000  0.000000  0.0   \n",
       "\n",
       "                                            25%  50%   75%   max  \n",
       "buss_underst_diff                           7.0  9.0  10.0  10.0  \n",
       "data_acq_expl_diff                          6.0  7.0   8.0   9.0  \n",
       "modeling_diff                               5.0  6.0   6.0   7.0  \n",
       "validation_diff                             6.0  6.0   8.0  10.0  \n",
       "deployment_diff                             5.0  6.0   7.0  10.0  \n",
       "monitoring_diff                             6.0  7.0   7.0   8.0  \n",
       "delays_freq                                 5.0  6.0   6.0  10.0  \n",
       "Late/low_engagement_of_stakeholders         0.0  1.0   1.0   1.0  \n",
       "Frequent_delays                             0.0  0.0   0.0   1.0  \n",
       "Poor_communication                          0.0  0.0   1.0   1.0  \n",
       "Ineffective_coordination_between_teams      0.0  0.0   1.0   1.0  \n",
       "Useless_data_entries_made_by_users          0.0  0.0   0.0   0.0  \n",
       "Ill-defined_problem_or_business_objectives  0.0  1.0   1.0   1.0  \n",
       "The_amount_of_data                          0.0  0.0   0.0   0.0  \n",
       "Infrastructure                              0.0  0.0   0.0   0.0  "
      ]
     },
     "execution_count": 9,
     "metadata": {},
     "output_type": "execute_result"
    }
   ],
   "source": [
    "data.query(\"methodology == 'CRISP-DM'\").describe().T"
   ]
  },
  {
   "cell_type": "code",
   "execution_count": 10,
   "metadata": {
    "ExecuteTime": {
     "end_time": "2020-05-10T05:56:48.276105Z",
     "start_time": "2020-05-10T05:56:48.209563Z"
    }
   },
   "outputs": [
    {
     "data": {
      "text/html": [
       "<div>\n",
       "<style scoped>\n",
       "    .dataframe tbody tr th:only-of-type {\n",
       "        vertical-align: middle;\n",
       "    }\n",
       "\n",
       "    .dataframe tbody tr th {\n",
       "        vertical-align: top;\n",
       "    }\n",
       "\n",
       "    .dataframe thead th {\n",
       "        text-align: right;\n",
       "    }\n",
       "</style>\n",
       "<table border=\"1\" class=\"dataframe\">\n",
       "  <thead>\n",
       "    <tr style=\"text-align: right;\">\n",
       "      <th></th>\n",
       "      <th>count</th>\n",
       "      <th>mean</th>\n",
       "      <th>std</th>\n",
       "      <th>min</th>\n",
       "      <th>25%</th>\n",
       "      <th>50%</th>\n",
       "      <th>75%</th>\n",
       "      <th>max</th>\n",
       "    </tr>\n",
       "  </thead>\n",
       "  <tbody>\n",
       "    <tr>\n",
       "      <th>buss_underst_diff</th>\n",
       "      <td>11.0</td>\n",
       "      <td>6.545455</td>\n",
       "      <td>2.733629</td>\n",
       "      <td>2.0</td>\n",
       "      <td>5.0</td>\n",
       "      <td>7.0</td>\n",
       "      <td>8.5</td>\n",
       "      <td>10.0</td>\n",
       "    </tr>\n",
       "    <tr>\n",
       "      <th>data_acq_expl_diff</th>\n",
       "      <td>11.0</td>\n",
       "      <td>7.000000</td>\n",
       "      <td>1.483240</td>\n",
       "      <td>5.0</td>\n",
       "      <td>6.0</td>\n",
       "      <td>7.0</td>\n",
       "      <td>8.0</td>\n",
       "      <td>10.0</td>\n",
       "    </tr>\n",
       "    <tr>\n",
       "      <th>modeling_diff</th>\n",
       "      <td>11.0</td>\n",
       "      <td>5.818182</td>\n",
       "      <td>1.778661</td>\n",
       "      <td>3.0</td>\n",
       "      <td>5.0</td>\n",
       "      <td>6.0</td>\n",
       "      <td>7.0</td>\n",
       "      <td>8.0</td>\n",
       "    </tr>\n",
       "    <tr>\n",
       "      <th>validation_diff</th>\n",
       "      <td>11.0</td>\n",
       "      <td>7.181818</td>\n",
       "      <td>1.328020</td>\n",
       "      <td>6.0</td>\n",
       "      <td>6.0</td>\n",
       "      <td>7.0</td>\n",
       "      <td>7.5</td>\n",
       "      <td>10.0</td>\n",
       "    </tr>\n",
       "    <tr>\n",
       "      <th>deployment_diff</th>\n",
       "      <td>11.0</td>\n",
       "      <td>8.090909</td>\n",
       "      <td>1.445998</td>\n",
       "      <td>6.0</td>\n",
       "      <td>7.0</td>\n",
       "      <td>8.0</td>\n",
       "      <td>9.0</td>\n",
       "      <td>10.0</td>\n",
       "    </tr>\n",
       "    <tr>\n",
       "      <th>monitoring_diff</th>\n",
       "      <td>11.0</td>\n",
       "      <td>7.090909</td>\n",
       "      <td>2.022600</td>\n",
       "      <td>5.0</td>\n",
       "      <td>5.5</td>\n",
       "      <td>7.0</td>\n",
       "      <td>8.5</td>\n",
       "      <td>10.0</td>\n",
       "    </tr>\n",
       "    <tr>\n",
       "      <th>delays_freq</th>\n",
       "      <td>11.0</td>\n",
       "      <td>6.545455</td>\n",
       "      <td>2.018100</td>\n",
       "      <td>2.0</td>\n",
       "      <td>5.5</td>\n",
       "      <td>7.0</td>\n",
       "      <td>8.0</td>\n",
       "      <td>9.0</td>\n",
       "    </tr>\n",
       "    <tr>\n",
       "      <th>Late/low_engagement_of_stakeholders</th>\n",
       "      <td>11.0</td>\n",
       "      <td>0.363636</td>\n",
       "      <td>0.504525</td>\n",
       "      <td>0.0</td>\n",
       "      <td>0.0</td>\n",
       "      <td>0.0</td>\n",
       "      <td>1.0</td>\n",
       "      <td>1.0</td>\n",
       "    </tr>\n",
       "    <tr>\n",
       "      <th>Frequent_delays</th>\n",
       "      <td>11.0</td>\n",
       "      <td>0.181818</td>\n",
       "      <td>0.404520</td>\n",
       "      <td>0.0</td>\n",
       "      <td>0.0</td>\n",
       "      <td>0.0</td>\n",
       "      <td>0.0</td>\n",
       "      <td>1.0</td>\n",
       "    </tr>\n",
       "    <tr>\n",
       "      <th>Poor_communication</th>\n",
       "      <td>11.0</td>\n",
       "      <td>0.181818</td>\n",
       "      <td>0.404520</td>\n",
       "      <td>0.0</td>\n",
       "      <td>0.0</td>\n",
       "      <td>0.0</td>\n",
       "      <td>0.0</td>\n",
       "      <td>1.0</td>\n",
       "    </tr>\n",
       "    <tr>\n",
       "      <th>Ineffective_coordination_between_teams</th>\n",
       "      <td>11.0</td>\n",
       "      <td>0.272727</td>\n",
       "      <td>0.467099</td>\n",
       "      <td>0.0</td>\n",
       "      <td>0.0</td>\n",
       "      <td>0.0</td>\n",
       "      <td>0.5</td>\n",
       "      <td>1.0</td>\n",
       "    </tr>\n",
       "    <tr>\n",
       "      <th>Useless_data_entries_made_by_users</th>\n",
       "      <td>11.0</td>\n",
       "      <td>0.000000</td>\n",
       "      <td>0.000000</td>\n",
       "      <td>0.0</td>\n",
       "      <td>0.0</td>\n",
       "      <td>0.0</td>\n",
       "      <td>0.0</td>\n",
       "      <td>0.0</td>\n",
       "    </tr>\n",
       "    <tr>\n",
       "      <th>Ill-defined_problem_or_business_objectives</th>\n",
       "      <td>11.0</td>\n",
       "      <td>0.636364</td>\n",
       "      <td>0.504525</td>\n",
       "      <td>0.0</td>\n",
       "      <td>0.0</td>\n",
       "      <td>1.0</td>\n",
       "      <td>1.0</td>\n",
       "      <td>1.0</td>\n",
       "    </tr>\n",
       "    <tr>\n",
       "      <th>The_amount_of_data</th>\n",
       "      <td>11.0</td>\n",
       "      <td>0.090909</td>\n",
       "      <td>0.301511</td>\n",
       "      <td>0.0</td>\n",
       "      <td>0.0</td>\n",
       "      <td>0.0</td>\n",
       "      <td>0.0</td>\n",
       "      <td>1.0</td>\n",
       "    </tr>\n",
       "    <tr>\n",
       "      <th>Infrastructure</th>\n",
       "      <td>11.0</td>\n",
       "      <td>0.000000</td>\n",
       "      <td>0.000000</td>\n",
       "      <td>0.0</td>\n",
       "      <td>0.0</td>\n",
       "      <td>0.0</td>\n",
       "      <td>0.0</td>\n",
       "      <td>0.0</td>\n",
       "    </tr>\n",
       "  </tbody>\n",
       "</table>\n",
       "</div>"
      ],
      "text/plain": [
       "                                            count      mean       std  min  \\\n",
       "buss_underst_diff                            11.0  6.545455  2.733629  2.0   \n",
       "data_acq_expl_diff                           11.0  7.000000  1.483240  5.0   \n",
       "modeling_diff                                11.0  5.818182  1.778661  3.0   \n",
       "validation_diff                              11.0  7.181818  1.328020  6.0   \n",
       "deployment_diff                              11.0  8.090909  1.445998  6.0   \n",
       "monitoring_diff                              11.0  7.090909  2.022600  5.0   \n",
       "delays_freq                                  11.0  6.545455  2.018100  2.0   \n",
       "Late/low_engagement_of_stakeholders          11.0  0.363636  0.504525  0.0   \n",
       "Frequent_delays                              11.0  0.181818  0.404520  0.0   \n",
       "Poor_communication                           11.0  0.181818  0.404520  0.0   \n",
       "Ineffective_coordination_between_teams       11.0  0.272727  0.467099  0.0   \n",
       "Useless_data_entries_made_by_users           11.0  0.000000  0.000000  0.0   \n",
       "Ill-defined_problem_or_business_objectives   11.0  0.636364  0.504525  0.0   \n",
       "The_amount_of_data                           11.0  0.090909  0.301511  0.0   \n",
       "Infrastructure                               11.0  0.000000  0.000000  0.0   \n",
       "\n",
       "                                            25%  50%  75%   max  \n",
       "buss_underst_diff                           5.0  7.0  8.5  10.0  \n",
       "data_acq_expl_diff                          6.0  7.0  8.0  10.0  \n",
       "modeling_diff                               5.0  6.0  7.0   8.0  \n",
       "validation_diff                             6.0  7.0  7.5  10.0  \n",
       "deployment_diff                             7.0  8.0  9.0  10.0  \n",
       "monitoring_diff                             5.5  7.0  8.5  10.0  \n",
       "delays_freq                                 5.5  7.0  8.0   9.0  \n",
       "Late/low_engagement_of_stakeholders         0.0  0.0  1.0   1.0  \n",
       "Frequent_delays                             0.0  0.0  0.0   1.0  \n",
       "Poor_communication                          0.0  0.0  0.0   1.0  \n",
       "Ineffective_coordination_between_teams      0.0  0.0  0.5   1.0  \n",
       "Useless_data_entries_made_by_users          0.0  0.0  0.0   0.0  \n",
       "Ill-defined_problem_or_business_objectives  0.0  1.0  1.0   1.0  \n",
       "The_amount_of_data                          0.0  0.0  0.0   1.0  \n",
       "Infrastructure                              0.0  0.0  0.0   0.0  "
      ]
     },
     "execution_count": 10,
     "metadata": {},
     "output_type": "execute_result"
    }
   ],
   "source": [
    "data.query(\"methodology == 'None'\").describe().T"
   ]
  },
  {
   "cell_type": "code",
   "execution_count": 11,
   "metadata": {
    "ExecuteTime": {
     "end_time": "2020-05-10T05:56:48.582183Z",
     "start_time": "2020-05-10T05:56:48.278283Z"
    }
   },
   "outputs": [
    {
     "data": {
      "text/plain": [
       "<matplotlib.axes._subplots.AxesSubplot at 0x7f791bd62c18>"
      ]
     },
     "execution_count": 11,
     "metadata": {},
     "output_type": "execute_result"
    },
    {
     "data": {
      "image/png": "[encoded data removed]",
      "text/plain": [
       "<Figure size 432x288 with 1 Axes>"
      ]
     },
     "metadata": {
      "needs_background": "light"
     },
     "output_type": "display_data"
    }
   ],
   "source": [
    "sns.boxplot(x=\"methodology\", y=\"delays_freq\", data=data)"
   ]
  },
  {
   "cell_type": "code",
   "execution_count": 12,
   "metadata": {
    "ExecuteTime": {
     "end_time": "2020-05-10T05:56:48.840492Z",
     "start_time": "2020-05-10T05:56:48.584006Z"
    }
   },
   "outputs": [
    {
     "data": {
      "text/plain": [
       "<matplotlib.axes._subplots.AxesSubplot at 0x7f7917572f98>"
      ]
     },
     "execution_count": 12,
     "metadata": {},
     "output_type": "execute_result"
    },
    {
     "data": {
      "image/png": "[encoded data removed]",
      "text/plain": [
       "<Figure size 432x288 with 1 Axes>"
      ]
     },
     "metadata": {
      "needs_background": "light"
     },
     "output_type": "display_data"
    }
   ],
   "source": [
    "sns.boxplot(x=\"methodology\", y=\"buss_underst_diff\", data=data)"
   ]
  },
  {
   "cell_type": "code",
   "execution_count": 13,
   "metadata": {
    "ExecuteTime": {
     "end_time": "2020-05-10T05:56:49.098416Z",
     "start_time": "2020-05-10T05:56:48.841930Z"
    }
   },
   "outputs": [
    {
     "data": {
      "text/plain": [
       "<matplotlib.axes._subplots.AxesSubplot at 0x7f7917452dd8>"
      ]
     },
     "execution_count": 13,
     "metadata": {},
     "output_type": "execute_result"
    },
    {
     "data": {
      "image/png": "[encoded data removed]",
      "text/plain": [
       "<Figure size 432x288 with 1 Axes>"
      ]
     },
     "metadata": {
      "needs_background": "light"
     },
     "output_type": "display_data"
    }
   ],
   "source": [
    "sns.boxplot(x=\"methodology\", y=\"data_acq_expl_diff\", data=data)"
   ]
  },
  {
   "cell_type": "code",
   "execution_count": 14,
   "metadata": {
    "ExecuteTime": {
     "end_time": "2020-05-10T05:56:49.351004Z",
     "start_time": "2020-05-10T05:56:49.099911Z"
    }
   },
   "outputs": [
    {
     "data": {
      "text/plain": [
       "<matplotlib.axes._subplots.AxesSubplot at 0x7f79174b6710>"
      ]
     },
     "execution_count": 14,
     "metadata": {},
     "output_type": "execute_result"
    },
    {
     "data": {
      "image/png": "[encoded data removed]",
      "text/plain": [
       "<Figure size 432x288 with 1 Axes>"
      ]
     },
     "metadata": {
      "needs_background": "light"
     },
     "output_type": "display_data"
    }
   ],
   "source": [
    "sns.boxplot(x=\"methodology\", y=\"modeling_diff\", data=data)"
   ]
  },
  {
   "cell_type": "code",
   "execution_count": 15,
   "metadata": {
    "ExecuteTime": {
     "end_time": "2020-05-10T05:56:49.597782Z",
     "start_time": "2020-05-10T05:56:49.352966Z"
    }
   },
   "outputs": [
    {
     "data": {
      "text/plain": [
       "<matplotlib.axes._subplots.AxesSubplot at 0x7f79172f9fd0>"
      ]
     },
     "execution_count": 15,
     "metadata": {},
     "output_type": "execute_result"
    },
    {
     "data": {
      "image/png": "[encoded data removed]",
      "text/plain": [
       "<Figure size 432x288 with 1 Axes>"
      ]
     },
     "metadata": {
      "needs_background": "light"
     },
     "output_type": "display_data"
    }
   ],
   "source": [
    "sns.boxplot(x=\"methodology\", y=\"validation_diff\", data=data)"
   ]
  },
  {
   "cell_type": "code",
   "execution_count": 16,
   "metadata": {
    "ExecuteTime": {
     "end_time": "2020-05-10T05:56:49.843159Z",
     "start_time": "2020-05-10T05:56:49.599548Z"
    }
   },
   "outputs": [
    {
     "data": {
      "text/plain": [
       "<matplotlib.axes._subplots.AxesSubplot at 0x7f791723e8d0>"
      ]
     },
     "execution_count": 16,
     "metadata": {},
     "output_type": "execute_result"
    },
    {
     "data": {
      "image/png": "[encoded data removed]",
      "text/plain": [
       "<Figure size 432x288 with 1 Axes>"
      ]
     },
     "metadata": {
      "needs_background": "light"
     },
     "output_type": "display_data"
    }
   ],
   "source": [
    "sns.boxplot(x=\"methodology\", y=\"deployment_diff\", data=data)"
   ]
  },
  {
   "cell_type": "code",
   "execution_count": 17,
   "metadata": {
    "ExecuteTime": {
     "end_time": "2020-05-10T05:56:50.321846Z",
     "start_time": "2020-05-10T05:56:49.845036Z"
    }
   },
   "outputs": [
    {
     "data": {
      "text/plain": [
       "<matplotlib.axes._subplots.AxesSubplot at 0x7f79172f1710>"
      ]
     },
     "execution_count": 17,
     "metadata": {},
     "output_type": "execute_result"
    },
    {
     "data": {
      "image/png": "[encoded data removed]",
      "text/plain": [
       "<Figure size 432x288 with 1 Axes>"
      ]
     },
     "metadata": {
      "needs_background": "light"
     },
     "output_type": "display_data"
    }
   ],
   "source": [
    "sns.boxplot( orient=\"h\", data=data)"
   ]
  },
  {
   "cell_type": "code",
   "execution_count": 23,
   "metadata": {
    "ExecuteTime": {
     "end_time": "2020-05-10T06:00:57.446476Z",
     "start_time": "2020-05-10T06:00:55.294488Z"
    }
   },
   "outputs": [
    {
     "data": {
      "image/png": "[encoded data removed]",
      "text/plain": [
       "<Figure size 1440x720 with 16 Axes>"
      ]
     },
     "metadata": {
      "needs_background": "light"
     },
     "output_type": "display_data"
    }
   ],
   "source": [
    "data.hist(figsize=(20,10));"
   ]
  }
 ],
 "metadata": {
  "kernelspec": {
   "display_name": "Python 3",
   "language": "python",
   "name": "python3"
  },
  "language_info": {
   "codemirror_mode": {
    "name": "ipython",
    "version": 3
   },
   "file_extension": ".py",
   "mimetype": "text/x-python",
   "name": "python",
   "nbconvert_exporter": "python",
   "pygments_lexer": "ipython3",
   "version": "3.6.9"
  },
  "toc": {
   "base_numbering": 1,
   "nav_menu": {},
   "number_sections": true,
   "sideBar": true,
   "skip_h1_title": false,
   "title_cell": "Table of Contents",
   "title_sidebar": "Contents",
   "toc_cell": false,
   "toc_position": {},
   "toc_section_display": true,
   "toc_window_display": false
  }
 },
 "nbformat": 4,
 "nbformat_minor": 2
}
